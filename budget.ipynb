{
 "cells": [
  {
   "cell_type": "code",
   "execution_count": null,
   "metadata": {
    "collapsed": true
   },
   "outputs": [],
   "source": [
    "# DATA 533 Lab2\n",
    "\n",
    "class ObjectPrice():\n",
    "    def __init__(self, name,price,province):\n",
    "        self.name=name\n",
    "        self.price=price\n",
    "        self.province=province\n",
    "        \n",
    "    def CalculateTax(self,price,province):\n",
    "\n",
    "class budget(calctax):\n",
    "    def __init__(self,name,price,budget):\n",
    "        calctax.__init__(self,name,price)\n",
    "        self.amount=amount\n",
    "    \n",
    "    def Afford(self, budget):\n",
    "        if budget>=totalprice:\n",
    "            return \"You can afford the \" + name + \"based on your budget!\"\n",
    "        else\n",
    "            return \"Unfortunatley you can not afford the \"+ name\n",
    "      "
   ]
  }
 ],
 "metadata": {
  "anaconda-cloud": {},
  "kernelspec": {
   "display_name": "Python [conda root]",
   "language": "python",
   "name": "conda-root-py"
  },
  "language_info": {
   "codemirror_mode": {
    "name": "ipython",
    "version": 3
   },
   "file_extension": ".py",
   "mimetype": "text/x-python",
   "name": "python",
   "nbconvert_exporter": "python",
   "pygments_lexer": "ipython3",
   "version": "3.5.2"
  }
 },
 "nbformat": 4,
 "nbformat_minor": 1
}
